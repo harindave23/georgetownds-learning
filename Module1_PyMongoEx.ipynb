{
  "cells": [
    {
      "cell_type": "code",
      "execution_count": 2,
      "id": "36699dd9-06aa-4540-8dd1-a7070cf407f2",
      "metadata": {
        "id": "36699dd9-06aa-4540-8dd1-a7070cf407f2",
        "outputId": "57254696-6712-4530-ae0f-91ce037c94eb",
        "colab": {
          "base_uri": "https://localhost:8080/"
        }
      },
      "outputs": [
        {
          "output_type": "stream",
          "name": "stdout",
          "text": [
            "Collecting pymongo\n",
            "  Downloading pymongo-4.11-cp311-cp311-manylinux_2_17_x86_64.manylinux2014_x86_64.whl.metadata (22 kB)\n",
            "Collecting dnspython<3.0.0,>=1.16.0 (from pymongo)\n",
            "  Downloading dnspython-2.7.0-py3-none-any.whl.metadata (5.8 kB)\n",
            "Downloading pymongo-4.11-cp311-cp311-manylinux_2_17_x86_64.manylinux2014_x86_64.whl (1.4 MB)\n",
            "\u001b[2K   \u001b[90m━━━━━━━━━━━━━━━━━━━━━━━━━━━━━━━━━━━━━━━━\u001b[0m \u001b[32m1.4/1.4 MB\u001b[0m \u001b[31m19.4 MB/s\u001b[0m eta \u001b[36m0:00:00\u001b[0m\n",
            "\u001b[?25hDownloading dnspython-2.7.0-py3-none-any.whl (313 kB)\n",
            "\u001b[2K   \u001b[90m━━━━━━━━━━━━━━━━━━━━━━━━━━━━━━━━━━━━━━━━\u001b[0m \u001b[32m313.6/313.6 kB\u001b[0m \u001b[31m17.3 MB/s\u001b[0m eta \u001b[36m0:00:00\u001b[0m\n",
            "\u001b[?25hInstalling collected packages: dnspython, pymongo\n",
            "Successfully installed dnspython-2.7.0 pymongo-4.11\n"
          ]
        }
      ],
      "source": [
        "!pip install pymongo\n",
        "import pymongo"
      ]
    },
    {
      "cell_type": "code",
      "execution_count": 3,
      "id": "cd2d2f02-ca05-4c6c-8930-53b5bcf1a7ba",
      "metadata": {
        "id": "cd2d2f02-ca05-4c6c-8930-53b5bcf1a7ba"
      },
      "outputs": [],
      "source": [
        "# Making a Connection with MongoClient\n",
        "from pymongo import MongoClient\n",
        "client = MongoClient()\n",
        "client = MongoClient(\"localhost\",27017)"
      ]
    },
    {
      "cell_type": "code",
      "execution_count": 10,
      "id": "91f4e100-0db9-4bfd-90db-0b20f67fe1ec",
      "metadata": {
        "id": "91f4e100-0db9-4bfd-90db-0b20f67fe1ec"
      },
      "outputs": [],
      "source": [
        "# Getting a Database\n",
        "db = client.test_database\n",
        "collection = db.test_collection\n",
        "collection = db[\"test-collection\"]"
      ]
    },
    {
      "cell_type": "code",
      "execution_count": 11,
      "id": "aee62d03-2b9f-477e-80e3-a9b125ead6d2",
      "metadata": {
        "id": "aee62d03-2b9f-477e-80e3-a9b125ead6d2",
        "outputId": "5bcfab92-2217-4d28-b78d-5b4f0a2f5b1f",
        "colab": {
          "base_uri": "https://localhost:8080/"
        }
      },
      "outputs": [
        {
          "output_type": "stream",
          "name": "stdout",
          "text": [
            "dict_items([('author', 'Mike'), ('text', 'My first blog post!'), ('tags', ['mongodb', 'python', 'pymongo']), ('date', datetime.datetime(2025, 2, 8, 15, 39, 3, 180003, tzinfo=datetime.timezone.utc))])\n"
          ]
        }
      ],
      "source": [
        "import datetime\n",
        "post = {\n",
        "    \"author\": \"Mike\",\n",
        "    \"text\": \"My first blog post!\",\n",
        "    \"tags\": [\"mongodb\", \"python\", \"pymongo\"],\n",
        "    \"date\": datetime.datetime.now(tz=datetime.timezone.utc),\n",
        "}\n",
        "print(post.items())"
      ]
    },
    {
      "cell_type": "code",
      "execution_count": 12,
      "id": "42fe8135-7064-4e59-85ec-99aba7441313",
      "metadata": {
        "id": "42fe8135-7064-4e59-85ec-99aba7441313",
        "outputId": "edf3e677-bf8a-4c90-f7c4-b370ab85ad02",
        "colab": {
          "base_uri": "https://localhost:8080/",
          "height": 252
        }
      },
      "outputs": [
        {
          "output_type": "display_data",
          "data": {
            "text/plain": [
              "<Figure size 960x240 with 1 Axes>"
            ],
            "image/png": "[encoded data removed]"
          },
          "metadata": {}
        }
      ],
      "source": [
        "# Exploring Data Analysis\n",
        "# Create an array of article lenghts for all articles within the text\n",
        "import matplotlib.pyplot as plt\n",
        "\n",
        "texts = [\"Harin Dave\", \"Megha Dave\", \"Dhanvi Dave\", \"Jiya Dave\"]\n",
        "lengths = [len(text) for text in texts]  # Fixed variable name\n",
        "\n",
        "def make_boxplot(data, title):\n",
        "    '''\n",
        "    Ingest a list and a title string, output a boxplot.\n",
        "    '''\n",
        "    plt.figure(figsize=(12, 3), dpi=80, facecolor='w', edgecolor='k')\n",
        "    plt.title(title)\n",
        "    plt.boxplot(data, vert=False, patch_artist=True, boxprops=dict(facecolor='lightblue'))\n",
        "    plt.show()\n",
        "\n",
        "make_boxplot(lengths, \"Article Lengths\")  # Fixed function call"
      ]
    },
    {
      "cell_type": "code",
      "execution_count": 9,
      "id": "63221484-4d2b-4e91-bc87-7106ff47b08f",
      "metadata": {
        "id": "63221484-4d2b-4e91-bc87-7106ff47b08f",
        "outputId": "2bc2a042-351a-4b94-88e7-9e4340e0cb17",
        "colab": {
          "base_uri": "https://localhost:8080/"
        }
      },
      "outputs": [
        {
          "output_type": "stream",
          "name": "stdout",
          "text": [
            "Number of mislabeled points out of a total 150 points : 6\n"
          ]
        }
      ],
      "source": [
        "# NAive Bayes - A Straightforward ML Algorithm\n",
        "from sklearn import datasets\n",
        "iris = datasets.load_iris()\n",
        "from sklearn.naive_bayes import GaussianNB\n",
        "gnb = GaussianNB()\n",
        "y_pred = gnb.fit(iris.data, iris.target).predict(iris.data)\n",
        "print(\"Number of mislabeled points out of a total %d points : %d\" % (iris.data.shape[0], (iris.target != y_pred).sum()))"
      ]
    },
    {
      "cell_type": "code",
      "execution_count": null,
      "id": "a2b58ea1-a102-4088-8edc-152f17e96cda",
      "metadata": {
        "id": "a2b58ea1-a102-4088-8edc-152f17e96cda"
      },
      "outputs": [],
      "source": []
    }
  ],
  "metadata": {
    "kernelspec": {
      "display_name": "Python [conda env:base] *",
      "language": "python",
      "name": "conda-base-py"
    },
    "language_info": {
      "codemirror_mode": {
        "name": "ipython",
        "version": 3
      },
      "file_extension": ".py",
      "mimetype": "text/x-python",
      "name": "python",
      "nbconvert_exporter": "python",
      "pygments_lexer": "ipython3",
      "version": "3.12.7"
    },
    "colab": {
      "provenance": []
    }
  },
  "nbformat": 4,
  "nbformat_minor": 5
}