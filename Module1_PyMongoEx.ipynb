{
 "cells": [
  {
   "cell_type": "code",
   "execution_count": 1,
   "id": "36699dd9-06aa-4540-8dd1-a7070cf407f2",
   "metadata": {},
   "outputs": [],
   "source": [
    "import pymongo"
   ]
  },
  {
   "cell_type": "code",
   "execution_count": 9,
   "id": "cd2d2f02-ca05-4c6c-8930-53b5bcf1a7ba",
   "metadata": {},
   "outputs": [],
   "source": [
    "# Making a Connection with MongoClient\n",
    "from pymongo import MongoClient\n",
    "client = MongoClient()\n",
    "client = MongoClient(\"localhost\",27017)"
   ]
  },
  {
   "cell_type": "code",
   "execution_count": 15,
   "id": "91f4e100-0db9-4bfd-90db-0b20f67fe1ec",
   "metadata": {},
   "outputs": [],
   "source": [
    "# Getting a Database\n",
    "db = client.test_database\n",
    "collection = db.test_collection\n",
    "collection = db[\"test-collection\"]"
   ]
  },
  {
   "cell_type": "code",
   "execution_count": 24,
   "id": "8ef91b5f-2a14-4644-9725-9e8008da1612",
   "metadata": {},
   "outputs": [],
   "source": [
    "from fastapi import FastAPI\n",
    "app = FastAPI()\n",
    "from dotenv import dotenv_values\n"
   ]
  },
  {
   "cell_type": "code",
   "execution_count": 38,
   "id": "aee62d03-2b9f-477e-80e3-a9b125ead6d2",
   "metadata": {},
   "outputs": [
    {
     "name": "stdout",
     "output_type": "stream",
     "text": [
      "dict_items([('author', 'Mike'), ('text', 'My first blog post!'), ('tags', ['mongodb', 'python', 'pymongo']), ('date', datetime.datetime(2025, 2, 1, 3, 49, 16, 83447, tzinfo=datetime.timezone.utc))])\n"
     ]
    }
   ],
   "source": [
    "import datetime\n",
    "post = {\n",
    "    \"author\": \"Mike\",\n",
    "    \"text\": \"My first blog post!\",\n",
    "    \"tags\": [\"mongodb\", \"python\", \"pymongo\"],\n",
    "    \"date\": datetime.datetime.now(tz=datetime.timezone.utc),\n",
    "}\n",
    "print(post.items())"
   ]
  },
  {
   "cell_type": "code",
   "execution_count": 85,
   "id": "42fe8135-7064-4e59-85ec-99aba7441313",
   "metadata": {},
   "outputs": [
    {
     "data": {
      "image/png": "[encoded data removed]",
      "text/plain": [
       "<Figure size 960x240 with 1 Axes>"
      ]
     },
     "metadata": {},
     "output_type": "display_data"
    }
   ],
   "source": [
    "# Exploring Data Analysis\n",
    "# Create an array of article lenghts for all articles within the text\n",
    "import matplotlib.pyplot as plt\n",
    "\n",
    "texts = [\"Harin Dave\", \"Megha Dave\", \"Dhanvi Dave\", \"Jiya Dave\"]\n",
    "lengths = [len(text) for text in texts]  # Fixed variable name\n",
    "\n",
    "def make_boxplot(data, title):\n",
    "    '''\n",
    "    Ingest a list and a title string, output a boxplot.\n",
    "    '''\n",
    "    plt.figure(figsize=(12, 3), dpi=80, facecolor='w', edgecolor='k')\n",
    "    plt.title(title)\n",
    "    plt.boxplot(data, vert=False, patch_artist=True, boxprops=dict(facecolor='lightblue'))\n",
    "    plt.show()\n",
    "\n",
    "make_boxplot(lengths, \"Article Lengths\")  # Fixed function call"
   ]
  },
  {
   "cell_type": "code",
   "execution_count": 89,
   "id": "63221484-4d2b-4e91-bc87-7106ff47b08f",
   "metadata": {},
   "outputs": [
    {
     "name": "stdout",
     "output_type": "stream",
     "text": [
      "Number of mislabeled points out of a total 150 points : 6\n"
     ]
    }
   ],
   "source": [
    "# NAive Bayes - A Straightforward ML Algorithm\n",
    "from sklearn import datasets\n",
    "iris = datasets.load_iris()\n",
    "from sklearn.naive_bayes import GaussianNB\n",
    "gnb = GaussianNB()\n",
    "y_pred = gnb.fit(iris.data, iris.target).predict(iris.data)\n",
    "print(\"Number of mislabeled points out of a total %d points : %d\" % (iris.data.shape[0], (iris.target != y_pred).sum()))"
   ]
  },
  {
   "cell_type": "code",
   "execution_count": null,
   "id": "a2b58ea1-a102-4088-8edc-152f17e96cda",
   "metadata": {},
   "outputs": [],
   "source": []
  }
 ],
 "metadata": {
  "kernelspec": {
   "display_name": "Python [conda env:base] *",
   "language": "python",
   "name": "conda-base-py"
  },
  "language_info": {
   "codemirror_mode": {
    "name": "ipython",
    "version": 3
   },
   "file_extension": ".py",
   "mimetype": "text/x-python",
   "name": "python",
   "nbconvert_exporter": "python",
   "pygments_lexer": "ipython3",
   "version": "3.12.7"
  }
 },
 "nbformat": 4,
 "nbformat_minor": 5
}
